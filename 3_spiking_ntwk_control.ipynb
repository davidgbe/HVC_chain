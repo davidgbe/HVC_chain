{
 "cells": [
  {
   "cell_type": "markdown",
   "metadata": {},
   "source": [
    "# Variable-speed synfire chains"
   ]
  },
  {
   "cell_type": "markdown",
   "metadata": {},
   "source": [
    "Conductance-based LIF network:\n",
    "\n",
    "$$C_m^i \\frac{dv^i}{dt} = g_l[E_l^i - V^i(t)] + g^i_e(t)[E_e - V^i(t)] + g^i_i(t)[E_i - V^i(t)] + I^i_{ext}(t)$$"
   ]
  },
  {
   "cell_type": "markdown",
   "metadata": {},
   "source": [
    "The time-varying conductances $g^i_e$ and $g^i_i$ are exponentially filtered sums of spike trains from upstream neurons $j$, with time constants $\\tau_e$ and $\\tau_i$ and weighted by $W_e^{ij}$ and $W_i^{ij}$ respectively.\n",
    "\n",
    "All param values are in SI units, with capacitance and conductance per cm$^2$."
   ]
  },
  {
   "cell_type": "code",
   "execution_count": 1,
   "metadata": {},
   "outputs": [
    {
     "name": "stdout",
     "output_type": "stream",
     "text": [
      "T_M_E = 10.0 ms\n",
      "T_M_I = 5.0 ms\n"
     ]
    }
   ],
   "source": [
    "%matplotlib inline\n",
    "from copy import deepcopy as copy\n",
    "import matplotlib.gridspec as gridspec\n",
    "import matplotlib.pyplot as plt\n",
    "import numpy as np\n",
    "from scipy import signal, stats\n",
    "\n",
    "from aux import Generic\n",
    "from disp import set_font_size, get_spaced_colors\n",
    "from ntwk import LIFNtwkG, join_w\n",
    "\n",
    "cc = np.concatenate\n",
    "\n",
    "# PARAMS\n",
    "## BASE MODEL\n",
    "M = {\n",
    "    # E membrane\n",
    "    'C_M_E': 1e-6, 'G_L_E': .1e-3,  # T_M (s) = C_M (F/cm^2) / G_L (S/cm^2)\n",
    "    'E_L_E': -0.06, 'V_TH_E': -0.05, 'V_R_E': -0.06, 'T_R_E': 0.002,\n",
    "    \n",
    "    # I membrane\n",
    "    'C_M_I': 1e-6, 'G_L_I': .2e-3,  # T_M = C_M_/G_L\n",
    "    'E_L_I': -0.06, 'V_TH_I': -0.05, 'V_R_I': -0.06, 'T_R_I': 0.002,\n",
    "    \n",
    "    # syn rev potentials & time constants\n",
    "    'E_E': 0, 'E_I': -0.08, 'T_E': 0.002, 'T_I': 0.002,\n",
    "    \n",
    "    # architecture\n",
    "    'N_L': 100,  # num links\n",
    "    'N_L_E': 30,  # num E nrns in chain link\n",
    "    'W_E_E_R': 0.005e-3,  # E->E recurrent cxns w/in link\n",
    "    'W_E_E_F': 0.01e-3,  # E->E feed-forward cxns btwn links\n",
    "    'W_U_E_I': 0.05e-3,  # I->E input weights\n",
    "    'T_R_E': 1,  # extra long refrac period (s)\n",
    "    'SGM_N': .5e-9,  # A*sqrt(s)\n",
    "    \n",
    "    # modulatory control\n",
    "    'V_F': 1.2, 'W': 0.5, 'H': 0.5, 'T_P_CH': 0.02,\n",
    "}\n",
    "\n",
    "## SMLN\n",
    "S = {\n",
    "    'RNG_SEED': 0, 'DT': .0005, 'T': 0.15,\n",
    "}\n",
    "\n",
    "print('T_M_E =', 1000*M['C_M_E']/M['G_L_E'], 'ms')\n",
    "print('T_M_I =', 1000*M['C_M_I']/M['G_L_I'], 'ms')"
   ]
  },
  {
   "cell_type": "markdown",
   "metadata": {},
   "source": [
    "# Spatiotemporally modulated spike sequence"
   ]
  },
  {
   "cell_type": "code",
   "execution_count": 2,
   "metadata": {},
   "outputs": [
    {
     "name": "stdout",
     "output_type": "stream",
     "text": [
      "v_ch = 970.833 links/s\n",
      "x_p_ch = 19.417 links\n",
      "t_p_ch = 0.020 s\n",
      "w_ch = 0.010 s\n",
      "h_ch = 9.708 links\n"
     ]
    }
   ],
   "source": [
    "# set up modulatory signal\n",
    "\n",
    "def to_ch_units(v_f_ch, v_s_ch, v_f, w, h, t_p_ch):\n",
    "    \"\"\"Convert unitless params to units of chain links and seconds.\n",
    "    \n",
    "    :param v_f_ch: fast chain speed (links/sec)\n",
    "    :param v_s_ch: slow chian speed (links/sec)\n",
    "    :param v_f: fast speed (unitless)\n",
    "    :param w: temporal czone width (btwn 0 and 1)\n",
    "    :param h: spatial czone width (btwn 0 and 1)\n",
    "    :param t_p_ch: temporal chain period (sec)\n",
    "    \n",
    "    \"\"\"\n",
    "    v_ch = v_f_ch / v_f  # stable speed in chain links / sec\n",
    "    x_p_ch = v_ch * t_p_ch  # spatial period in chain links\n",
    "    w_ch = t_p_ch * w\n",
    "    h_ch = x_p_ch * h\n",
    "    \n",
    "    v_s = v_f * (v_s_ch/v_f_ch)\n",
    "    \n",
    "    print('v_ch = {0:.3f} links/s'.format(v_ch))\n",
    "    print('x_p_ch = {0:.3f} links'.format(x_p_ch))\n",
    "    print('t_p_ch = {0:.3f} s'.format(t_p_ch))\n",
    "    print('w_ch = {0:.3f} s'.format(w_ch))\n",
    "    print('h_ch = {0:.3f} links'.format(h_ch))\n",
    "    \n",
    "    return Generic(\n",
    "        v_f=v_f, v_s=v_s, w=w, h=h,\n",
    "        v_f_ch=v_f_ch, v_s_ch=v_s_ch, v_ch=v_ch, x_p_ch=x_p_ch, t_p_ch=t_p_ch, w_ch=w_ch, h_ch=h_ch)\n",
    "\n",
    "ctl_prm = to_ch_units(\n",
    "    v_f_ch=1165, v_s_ch=570, v_f=M['V_F'], w=M['W'], h=M['H'], t_p_ch=M['T_P_CH'])\n",
    "\n",
    "def plot_czone(ctl_prm, figsize=(12, 10)):\n",
    "    \n",
    "    t = np.arange(0, S['T'], S['DT'])\n",
    "    x = np.arange(0, M['N_L'], .01)\n",
    "\n",
    "    a = .5 * (signal.square((2*np.pi/ctl_prm.t_p_ch)*t, ctl_prm.w) + 1)\n",
    "    b = .5 * (signal.square((2*np.pi/ctl_prm.x_p_ch)*x, ctl_prm.h) + 1)\n",
    "\n",
    "    gs = gridspec.GridSpec(6, 6)\n",
    "    fig = plt.figure(figsize=figsize, tight_layout=True)\n",
    "    axs = [fig.add_subplot(gs[0, :-1]), fig.add_subplot(gs[1:, -1]), fig.add_subplot(gs[1:, :-1])]\n",
    "\n",
    "    axs[0].plot(t, a, c='b', lw=2)\n",
    "    axs[0].fill_between(t, np.zeros(len(a)), a, color='b', alpha=.3)\n",
    "    axs[0].set_xlim(0, S['T'])\n",
    "    axs[0].set_ylim(-.1, 1.1)\n",
    "\n",
    "    axs[0].set_xticks([])\n",
    "    axs[0].set_yticks([0, 1])\n",
    "    axs[0].set_xlabel('Temporal modulation: a(t)', color='b')\n",
    "    axs[0].xaxis.set_label_position('top') \n",
    "\n",
    "    axs[1].plot(b, x, c='r', lw=2)\n",
    "    axs[1].fill_betweenx(x, np.zeros(len(x)), b, color='r', alpha=.3)\n",
    "    axs[1].set_ylim(0, M['N_L'])\n",
    "    axs[1].set_xlim(-.1, 1.1)\n",
    "\n",
    "    axs[1].set_yticks([])\n",
    "    axs[1].set_xticks([0, 1])\n",
    "    axs[1].set_ylabel('Spatial modulation: b(x)', color='r')\n",
    "    axs[1].yaxis.set_label_position('right')\n",
    "\n",
    "    for t_ in np.arange(0, S['T'], ctl_prm.t_p_ch):\n",
    "        for x_ in np.arange(0, M['N_L'], ctl_prm.x_p_ch):\n",
    "            axs[2].fill_between(\n",
    "                [t_, t_+ctl_prm.w_ch], [x_]*2, [x_+ctl_prm.h_ch]*2,\n",
    "                color='violet', alpha=.3, zorder=0)\n",
    "\n",
    "    axs[2].set_xlim(0, S['T'])\n",
    "    axs[2].set_ylim(0, M['N_L'])\n",
    "    axs[2].set_xlabel('t (s)')\n",
    "    axs[2].set_ylabel('x (link)')\n",
    "\n",
    "    for ax in axs:\n",
    "        set_font_size(ax, 16)\n",
    "        \n",
    "    return axs"
   ]
  },
  {
   "cell_type": "code",
   "execution_count": 3,
   "metadata": {},
   "outputs": [
    {
     "data": {
      "image/png": "[encoded data removed]",
      "text/plain": [
       "<Figure size 1080x864 with 3 Axes>"
      ]
     },
     "metadata": {
      "needs_background": "light"
     },
     "output_type": "display_data"
    }
   ],
   "source": [
    "plot_czone(ctl_prm, figsize=(15, 12));"
   ]
  }
 ],
 "metadata": {
  "kernelspec": {
   "display_name": "Python 3",
   "language": "python",
   "name": "python3"
  },
  "language_info": {
   "codemirror_mode": {
    "name": "ipython",
    "version": 3
   },
   "file_extension": ".py",
   "mimetype": "text/x-python",
   "name": "python",
   "nbconvert_exporter": "python",
   "pygments_lexer": "ipython3",
   "version": "3.6.10"
  }
 },
 "nbformat": 4,
 "nbformat_minor": 4
}
