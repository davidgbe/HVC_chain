{
 "cells": [
  {
   "cell_type": "markdown",
   "metadata": {},
   "source": [
    "# Dynamics"
   ]
  },
  {
   "cell_type": "code",
   "execution_count": null,
   "metadata": {},
   "outputs": [],
   "source": []
  },
  {
   "cell_type": "markdown",
   "metadata": {},
   "source": [
    "# Parameters"
   ]
  },
  {
   "cell_type": "markdown",
   "metadata": {},
   "source": [
    "$N$: network size.\n",
    "\n",
    "$N^*$: number of simultaneous spikes triggering full activation of weak network absent inhibition. Ie if $N^*$ neurons spike at once in a weak network, there should be a 0.5 chance that more than $N^*$ will spike at next time step.\n",
    "\n",
    "$M$: ensemble size.\n",
    "\n",
    "$M^*$: number of simultaneous spikes w/in ensemble to trigger full activation of ensemble absent inhibition.\n",
    "\n",
    "$N_{max}$: maximum number of spikes at one timestep.\n",
    "\n",
    "$q$: connection probability.\n",
    "\n",
    "$w_{max}$: intra-ensemble cxn weight.\n",
    "\n",
    "$w_{min}$: non-intra-ensemble cxn weight.\n",
    "\n",
    "$\\theta$: baseline spike threshold.\n",
    "\n",
    "$a_{\\theta}$: post-spike spike-threshold increase.\n",
    "\n",
    "$\\tau_{\\theta}$: threshold-adaptation time constant."
   ]
  },
  {
   "cell_type": "markdown",
   "metadata": {},
   "source": [
    "## Parameter relationships"
   ]
  },
  {
   "cell_type": "markdown",
   "metadata": {},
   "source": [
    "$\\cfrac{M^*}{M} = \\cfrac{N^*}{N} + \\alpha_N$: A maximally connected ensemble should require less relative triggering than the full network to activate. Thus, if the drive to the network increases uniformly, the ensemble should activate before the whole network. $\\alpha_N$ determines the separation between ensemble and network activation."
   ]
  },
  {
   "cell_type": "markdown",
   "metadata": {},
   "source": [
    "How is $N^*$ related to $q$, $w_{min}$, and $\\theta$? If $n(t)$ is the number of spikes in the network at $t$, we want \n",
    "\n",
    "$p(n(t+1) \\geq n(t)|n(t) = N^*) = 0.5$\n",
    "\n",
    "$p(n(t+1) \\geq n(t)|n(t)) = \\sum\\limits_{n(t+1) = n(t)}^N p(n(t+1)|n(t))$"
   ]
  },
  {
   "cell_type": "markdown",
   "metadata": {},
   "source": [
    "For independent connection probabilities:\n",
    "\n",
    "$p(n(t+1)|n(t)) = {N \\choose n(t+1)}p(I \\geq \\theta | n(t))^{n(t+1)}p(I < \\theta | n(t))^{N - n(t+1)}$\n",
    "\n",
    "ie the product of $n(t+1)$ cells getting suprathreshold input and $N-n(t+1)$ cells getting subthreshold input, summed over all subsets of $n(t+1)$ chosen from $N$ total cells. That is just a binomial distribution, however:\n",
    "\n",
    "$p(n(t+1)|n(t)) = \\textrm{Binomial}(n(t+1)|N, p(I \\geq \\theta|n(t)))$\n",
    "\n",
    "so letting $\\textrm{BiSvl}$ denote the binomial survival function (total probability mass greater than a given value), we have:\n",
    "\n",
    "$p(n(t+1) \\geq n(t)|n(t)) = \\textrm{BiSvl}(n(t)|N, p(I \\geq \\theta|n(t)))$"
   ]
  },
  {
   "cell_type": "markdown",
   "metadata": {},
   "source": [
    "The probability of a cell getting suprathreshold input given $n(t)$ spikes on the previous timestep is:\n",
    "\n",
    "$p(I \\geq \\theta | n(t)) = p(k \\geq \\theta/w_{min}|n(t)) = \\sum\\limits_{k = \\textrm{int}(\\theta/w_{min})}^{n(t)}p(k|n(t))$\n",
    "\n",
    "ie the probability it receives more than $\\theta/w_{min}$ excitatory inputs."
   ]
  },
  {
   "cell_type": "markdown",
   "metadata": {},
   "source": [
    "Since projections to any given cell from the $n(t)$ previously active cells are independent, we have:\n",
    "\n",
    "$p(k|n(t)) = \\textrm{Binomial}(k|n(t), q)$\n",
    "\n",
    "so\n",
    "\n",
    "$p(I \\geq \\theta|n(t)) = \\textrm{BiSvl}(\\textrm{int}(\\theta / w_{min})|n(t), q)$."
   ]
  },
  {
   "cell_type": "markdown",
   "metadata": {},
   "source": [
    "Therefore:\n",
    "\n",
    "$p(n(t+1) \\geq n(t)|n(t)) = \\textrm{BiSvl}(n(t)|N, \\textrm{BiSvl}(\\textrm{int}(\\theta/w_{min})|n(t), q))$."
   ]
  },
  {
   "cell_type": "markdown",
   "metadata": {},
   "source": [
    "Since the binomial distribution median, mode, and mean are equal to within a value of 1, we can equivalently find the $N^*$ such that:\n",
    "\n",
    "$E[n(t+1)|n(t) = N^*] = N^*$."
   ]
  },
  {
   "cell_type": "markdown",
   "metadata": {},
   "source": [
    "Since $p(n(t+1)|n(t))$ follows a binomial distribution with params $N$ and $p(I \\geq \\theta|n(t))$, we have simply\n",
    "\n",
    "$E[n(t+1)|n(t)] = Np(I \\geq \\theta|n(t))$\n",
    "\n",
    "such that\n",
    "\n",
    "$E[n(t+1)|n(t)] = N\\textrm{BiSvl}(\\textrm{int}(\\theta / w_{min})|n(t), q)$."
   ]
  },
  {
   "cell_type": "markdown",
   "metadata": {},
   "source": [
    "Our criterion for $N^*$ then becomes:\n",
    "\n",
    "$N^* = N\\textrm{BiSvl}(\\textrm{int}(\\theta / w_{min})|N^*, q)$ \n",
    "\n",
    "or\n",
    "\n",
    "$\\cfrac{N^*}{N} = \\textrm{BiSvl}(\\textrm{int}(\\theta / w_{min})|N^*, q)$."
   ]
  },
  {
   "cell_type": "markdown",
   "metadata": {},
   "source": [
    "Our requirement that $\\cfrac{M^*}{M} > \\cfrac{N^*}{N}$ is then equivalent to:\n",
    "\n",
    "$\\textrm{BiSvl}(\\textrm{int}(\\theta / w_{max})|M^*, q) > \\textrm{BiSvl}(\\textrm{int}(\\theta / w_{min})|N^*, q)$"
   ]
  },
  {
   "cell_type": "markdown",
   "metadata": {},
   "source": [
    "# Plasticity"
   ]
  },
  {
   "cell_type": "code",
   "execution_count": null,
   "metadata": {},
   "outputs": [],
   "source": []
  }
 ],
 "metadata": {
  "kernelspec": {
   "display_name": "Python 3",
   "language": "python",
   "name": "python3"
  },
  "language_info": {
   "codemirror_mode": {
    "name": "ipython",
    "version": 3
   },
   "file_extension": ".py",
   "mimetype": "text/x-python",
   "name": "python",
   "nbconvert_exporter": "python",
   "pygments_lexer": "ipython3",
   "version": "3.5.2"
  }
 },
 "nbformat": 4,
 "nbformat_minor": 2
}
