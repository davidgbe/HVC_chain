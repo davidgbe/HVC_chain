{
 "cells": [
  {
   "cell_type": "markdown",
   "metadata": {},
   "source": [
    "# Current-based LIF network"
   ]
  },
  {
   "cell_type": "markdown",
   "metadata": {},
   "source": [
    "Membrane dynamics:\n",
    "\n",
    "$$C\\cfrac{dv^i}{dt} = -g_L^i(v^i - E_L) + I_{SYN}^i(t) + I_{EXT}^i(t)$$\n",
    "\n",
    "Typical membrane time constant: \n",
    "\n",
    "$$\\tau_m = C/g_L \\sim 20 \\textrm{ms} = 0.2 \\textrm{nF} / 10 \\textrm{nS} = .2 \\textrm{nF}\\times100\\textrm{M}\\Omega$$\n",
    "\n",
    "Synaptic dynamics:\n",
    "\n",
    "$$I_{SYN}^i(t) = \\sum_j w^{ij}\\sum_{t^j}\\delta(t - t^j)$$\n",
    "\n",
    "where $w^{ij}$ is the synaptic weight from cell $j$ onto cell $i$, and $t^j$ indexes the spike times in neuron $j$."
   ]
  },
  {
   "cell_type": "markdown",
   "metadata": {},
   "source": [
    "# Conductance-based LIF network\n",
    "\n",
    "Synaptic dynamics:\n",
    "\n",
    "$$I_{SYN}^i(t) = - g_E^i(t)(v^i - E_E) - g_I^i(t)(v^i - E_I)$$\n",
    "\n",
    "$$\\cfrac{dg^i_E}{dt} = \\cfrac{-g^i_E}{\\tau_E} + \\sum_{j} w^{ij}_E \\sum_{t^j} \\delta(t - t^j)$$\n",
    "\n",
    "i.e. if left alone excitatory conductance of cell $i$ decays to zero with a time constant $\\tau_E$, and in response to upstream spike from neuron $j$, immediately jumps by $w_E^{ij}$, so $w_E^{ij}$ specifies instantaneous conductance changes in neuron $i$ in response to spike from neuron $j$. Similar for inhibitory conductances $g_I^i$."
   ]
  },
  {
   "cell_type": "markdown",
   "metadata": {},
   "source": [
    "# Adaptation"
   ]
  },
  {
   "cell_type": "markdown",
   "metadata": {},
   "source": [
    "We can add an adaptation term to our current-based LIF neuron also:\n",
    "\n",
    "$$C\\cfrac{dv^i}{dt} = -g_L^i(v^i - E_L) + I_{SYN}^i(t) + I_{EXT}^i(t) + a^i(t)$$\n",
    "\n",
    "$$\\tau_a\\cfrac{da^i}{dt} = -a^i + b_v(v^i - E_L) + b_s\\tau_a \\sum\\limits_{t_k^i} \\delta(t_k^i)$$."
   ]
  },
  {
   "cell_type": "markdown",
   "metadata": {},
   "source": [
    "For our conductance-based neuron we model adaptation by a self-inhibiting synaptic connection with a distinct time constant from excitatory and inhibitory synapses. This only generates spike-triggered adaptation, however (ie no explicit voltage-dependent term)."
   ]
  }
 ],
 "metadata": {
  "kernelspec": {
   "display_name": "Python 3",
   "language": "python",
   "name": "python3"
  },
  "language_info": {
   "codemirror_mode": {
    "name": "ipython",
    "version": 3
   },
   "file_extension": ".py",
   "mimetype": "text/x-python",
   "name": "python",
   "nbconvert_exporter": "python",
   "pygments_lexer": "ipython3",
   "version": "3.5.2"
  }
 },
 "nbformat": 4,
 "nbformat_minor": 2
}
